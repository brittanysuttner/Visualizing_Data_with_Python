{
 "cells": [
  {
   "cell_type": "markdown",
   "metadata": {},
   "source": [
    "## Header\n",
    "##### Header"
   ]
  },
  {
   "cell_type": "markdown",
   "metadata": {},
   "source": [
    "ITALICS --> use SINGLE *asterisks* or _underscores_\n",
    "\n",
    "BOLD --> use DOUBLE **asterisks** or __underscores__\n",
    "\n",
    "combined emphasis with asterisks AND **_underscores_**\n",
    "\n",
    "~~strikethough~~ with TWO tildes\n"
   ]
  },
  {
   "cell_type": "markdown",
   "metadata": {},
   "source": [
    "### Lists\n",
    "\n",
    "1. First item\n",
    "2. Second item\n",
    "  * Unordere sub-list use astersik\n",
    "  - Or minuses\n",
    "  + or pluses\n",
    "\n",
    "1. Actaul numbers don't matter\n",
    "  1. ordered sub-list\n",
    "  2. hell yeah\n",
    "  6. mother fucker\n",
    "\n",
    "     You can have properfly indented paragraphs..    \n",
    "     like this.\n",
    "But you need TWO empty spaces after the line."
   ]
  },
  {
   "cell_type": "markdown",
   "metadata": {},
   "source": [
    "### Links\n",
    "\n",
    "[I'm an inline-style link](https://github.com/adam-p/markdown-here/wiki/Markdown-Cheatsheet#headers)\n",
    "\n",
    "[I'm a reference-style link][arbitrary link reference]\n",
    "\n",
    "[You can use numbers for refernce style link][1]\n",
    "\n",
    "Or leave it empty and use the [link itself]\n",
    "\n",
    "[arbitrary link reference]: http://pudim.com.br/\n",
    "[1]: http://pudim.com.br/\n",
    "[link itself]: http://pudim.com.br/\n"
   ]
  },
  {
   "cell_type": "markdown",
   "metadata": {},
   "source": [
    "### Tables\n",
    "Colons can be used to align columns.\n",
    "\n",
    "| Tables        | Are           | Cool  |\n",
    "| ------------- |:-----------:| -----:|\n",
    "| col 3 is      | right-aligned | 1600 |\n",
    "| col 2 is      | centered      |   12 |\n",
    "| zebra stripes | are neat      |    1 |\n",
    "\n",
    "There must be at least 3 dashes separating each header cell.\n",
    "The outer pipes (|) are optional, and you don't need to make the \n",
    "raw Markdown line up prettily. You can also use inline Markdown.\n",
    "\n",
    "Markdown | Less | Pretty\n",
    "--- | --- | ---\n",
    "*Still* | `renders` | **nicely**\n",
    "1 | 2 | 3"
   ]
  },
  {
   "cell_type": "markdown",
   "metadata": {},
   "source": [
    "### Blockquotes\n",
    "\n",
    "> blockquoates are handy in email to emulate reply text.\n",
    "> this is part of the same quote\n",
    "\n",
    "Quote Break with double spaces\n",
    "\n",
    "> Quote continutes this is a very long line that will wrap around automatically. You can also use **Markdown** _shit_ too"
   ]
  }
 ],
 "metadata": {
  "kernelspec": {
   "display_name": "Python 3",
   "language": "python",
   "name": "python3"
  },
  "language_info": {
   "codemirror_mode": {
    "name": "ipython",
    "version": 3
   },
   "file_extension": ".py",
   "mimetype": "text/x-python",
   "name": "python",
   "nbconvert_exporter": "python",
   "pygments_lexer": "ipython3",
   "version": "3.6.8"
  }
 },
 "nbformat": 4,
 "nbformat_minor": 2
}
